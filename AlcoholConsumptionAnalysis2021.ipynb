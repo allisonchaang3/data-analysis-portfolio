{
 "cells": [
  {
   "cell_type": "markdown",
   "id": "dd653b6e-7c13-469d-9f41-37d187c5be71",
   "metadata": {},
   "source": [
    "# Exploratory Data Analysis: Alcohol Consumption Across the World"
   ]
  },
  {
   "cell_type": "code",
   "execution_count": 1,
   "id": "0f98d45f-9659-4c92-bb9e-b403251fd2f0",
   "metadata": {},
   "outputs": [],
   "source": [
    "import numpy as np\n",
    "import pandas as pd\n",
    "import matplotlib.pyplot as plt\n",
    "import seaborn as sns"
   ]
  },
  {
   "cell_type": "markdown",
   "id": "14c2db2f-ec86-463c-a610-e98e5d68ee2a",
   "metadata": {},
   "source": [
    "Below, I imported two csv files to merge into one new dataframe:\n",
    "1. ```alcoholdata``` dataframe containing **alcohol consumption across the world**\n",
    "2. ```countrycontinentmatch``` dataframe **maps the country name to the continent**. "
   ]
  },
  {
   "cell_type": "markdown",
   "id": "f6cf91dc-87ed-4138-9b4d-7d6f7cb1e40e",
   "metadata": {},
   "source": [
    "### Data Overview\n",
    "I wanted to see what types of data each dataframe comprises of using:\n",
    "- ```df.head()``` to view the first 5 rows of the dataframe\n",
    "-```df.dtypes``` to view the types of data in each column"
   ]
  },
  {
   "cell_type": "code",
   "execution_count": 2,
   "id": "7f09d821-5cc0-42d9-aa56-b5b5f7170865",
   "metadata": {},
   "outputs": [
    {
     "data": {
      "text/html": [
       "<div>\n",
       "<style scoped>\n",
       "    .dataframe tbody tr th:only-of-type {\n",
       "        vertical-align: middle;\n",
       "    }\n",
       "\n",
       "    .dataframe tbody tr th {\n",
       "        vertical-align: top;\n",
       "    }\n",
       "\n",
       "    .dataframe thead th {\n",
       "        text-align: right;\n",
       "    }\n",
       "</style>\n",
       "<table border=\"1\" class=\"dataframe\">\n",
       "  <thead>\n",
       "    <tr style=\"text-align: right;\">\n",
       "      <th></th>\n",
       "      <th>country</th>\n",
       "      <th>beer_servings</th>\n",
       "      <th>spirit_servings</th>\n",
       "      <th>wine_servings</th>\n",
       "      <th>total_litres_of_pure_alcohol</th>\n",
       "    </tr>\n",
       "  </thead>\n",
       "  <tbody>\n",
       "    <tr>\n",
       "      <th>0</th>\n",
       "      <td>Afghanistan</td>\n",
       "      <td>0</td>\n",
       "      <td>0</td>\n",
       "      <td>0</td>\n",
       "      <td>0.0</td>\n",
       "    </tr>\n",
       "    <tr>\n",
       "      <th>1</th>\n",
       "      <td>Albania</td>\n",
       "      <td>89</td>\n",
       "      <td>132</td>\n",
       "      <td>54</td>\n",
       "      <td>4.9</td>\n",
       "    </tr>\n",
       "    <tr>\n",
       "      <th>2</th>\n",
       "      <td>Algeria</td>\n",
       "      <td>25</td>\n",
       "      <td>0</td>\n",
       "      <td>14</td>\n",
       "      <td>0.7</td>\n",
       "    </tr>\n",
       "    <tr>\n",
       "      <th>3</th>\n",
       "      <td>Andorra</td>\n",
       "      <td>245</td>\n",
       "      <td>138</td>\n",
       "      <td>312</td>\n",
       "      <td>12.4</td>\n",
       "    </tr>\n",
       "    <tr>\n",
       "      <th>4</th>\n",
       "      <td>Angola</td>\n",
       "      <td>217</td>\n",
       "      <td>57</td>\n",
       "      <td>45</td>\n",
       "      <td>5.9</td>\n",
       "    </tr>\n",
       "  </tbody>\n",
       "</table>\n",
       "</div>"
      ],
      "text/plain": [
       "       country  beer_servings  spirit_servings  wine_servings  \\\n",
       "0  Afghanistan              0                0              0   \n",
       "1      Albania             89              132             54   \n",
       "2      Algeria             25                0             14   \n",
       "3      Andorra            245              138            312   \n",
       "4       Angola            217               57             45   \n",
       "\n",
       "   total_litres_of_pure_alcohol  \n",
       "0                           0.0  \n",
       "1                           4.9  \n",
       "2                           0.7  \n",
       "3                          12.4  \n",
       "4                           5.9  "
      ]
     },
     "execution_count": 2,
     "metadata": {},
     "output_type": "execute_result"
    }
   ],
   "source": [
    "alcoholdata=pd.read_csv('https://raw.githubusercontent.com/fivethirtyeight/data/master/alcohol-consumption/drinks.csv')\n",
    "alcoholdata.head()"
   ]
  },
  {
   "cell_type": "code",
   "execution_count": 3,
   "id": "da99ee00-dc67-40e4-8c92-424f0d5f089a",
   "metadata": {},
   "outputs": [
    {
     "data": {
      "text/plain": [
       "country                          object\n",
       "beer_servings                     int64\n",
       "spirit_servings                   int64\n",
       "wine_servings                     int64\n",
       "total_litres_of_pure_alcohol    float64\n",
       "dtype: object"
      ]
     },
     "execution_count": 3,
     "metadata": {},
     "output_type": "execute_result"
    }
   ],
   "source": [
    "alcoholdata.dtypes"
   ]
  },
  {
   "cell_type": "code",
   "execution_count": 4,
   "id": "7d25f7c9-1db4-4715-988e-f82a6970ec1e",
   "metadata": {},
   "outputs": [
    {
     "data": {
      "text/html": [
       "<div>\n",
       "<style scoped>\n",
       "    .dataframe tbody tr th:only-of-type {\n",
       "        vertical-align: middle;\n",
       "    }\n",
       "\n",
       "    .dataframe tbody tr th {\n",
       "        vertical-align: top;\n",
       "    }\n",
       "\n",
       "    .dataframe thead th {\n",
       "        text-align: right;\n",
       "    }\n",
       "</style>\n",
       "<table border=\"1\" class=\"dataframe\">\n",
       "  <thead>\n",
       "    <tr style=\"text-align: right;\">\n",
       "      <th></th>\n",
       "      <th>Continent_Name</th>\n",
       "      <th>Continent_Code</th>\n",
       "      <th>Country_Name</th>\n",
       "      <th>Two_Letter_Country_Code</th>\n",
       "      <th>Three_Letter_Country_Code</th>\n",
       "      <th>Country_Number</th>\n",
       "    </tr>\n",
       "  </thead>\n",
       "  <tbody>\n",
       "    <tr>\n",
       "      <th>0</th>\n",
       "      <td>Asia</td>\n",
       "      <td>AS</td>\n",
       "      <td>Afghanistan, Islamic Republic of</td>\n",
       "      <td>AF</td>\n",
       "      <td>AFG</td>\n",
       "      <td>4.0</td>\n",
       "    </tr>\n",
       "    <tr>\n",
       "      <th>1</th>\n",
       "      <td>Europe</td>\n",
       "      <td>EU</td>\n",
       "      <td>Albania, Republic of</td>\n",
       "      <td>AL</td>\n",
       "      <td>ALB</td>\n",
       "      <td>8.0</td>\n",
       "    </tr>\n",
       "    <tr>\n",
       "      <th>2</th>\n",
       "      <td>Antarctica</td>\n",
       "      <td>AN</td>\n",
       "      <td>Antarctica (the territory South of 60 deg S)</td>\n",
       "      <td>AQ</td>\n",
       "      <td>ATA</td>\n",
       "      <td>10.0</td>\n",
       "    </tr>\n",
       "    <tr>\n",
       "      <th>3</th>\n",
       "      <td>Africa</td>\n",
       "      <td>AF</td>\n",
       "      <td>Algeria, People's Democratic Republic of</td>\n",
       "      <td>DZ</td>\n",
       "      <td>DZA</td>\n",
       "      <td>12.0</td>\n",
       "    </tr>\n",
       "    <tr>\n",
       "      <th>4</th>\n",
       "      <td>Oceania</td>\n",
       "      <td>OC</td>\n",
       "      <td>American Samoa</td>\n",
       "      <td>AS</td>\n",
       "      <td>ASM</td>\n",
       "      <td>16.0</td>\n",
       "    </tr>\n",
       "  </tbody>\n",
       "</table>\n",
       "</div>"
      ],
      "text/plain": [
       "  Continent_Name Continent_Code                                  Country_Name  \\\n",
       "0           Asia             AS              Afghanistan, Islamic Republic of   \n",
       "1         Europe             EU                          Albania, Republic of   \n",
       "2     Antarctica             AN  Antarctica (the territory South of 60 deg S)   \n",
       "3         Africa             AF      Algeria, People's Democratic Republic of   \n",
       "4        Oceania             OC                                American Samoa   \n",
       "\n",
       "  Two_Letter_Country_Code Three_Letter_Country_Code  Country_Number  \n",
       "0                      AF                       AFG             4.0  \n",
       "1                      AL                       ALB             8.0  \n",
       "2                      AQ                       ATA            10.0  \n",
       "3                      DZ                       DZA            12.0  \n",
       "4                      AS                       ASM            16.0  "
      ]
     },
     "execution_count": 4,
     "metadata": {},
     "output_type": "execute_result"
    }
   ],
   "source": [
    "countrycontinentmatch=pd.read_csv('https://pkgstore.datahub.io/JohnSnowLabs/country-and-continent-codes-list/country-and-continent-codes-list-csv_csv/data/b7876b7f496677669644f3d1069d3121/country-and-continent-codes-list-csv_csv.csv')\n",
    "countrycontinentmatch.head()"
   ]
  },
  {
   "cell_type": "markdown",
   "id": "6627ec20-9da7-4df0-97d3-c458eef0ccc3",
   "metadata": {},
   "source": [
    "### Data Manipulation: Extracting the country name"
   ]
  },
  {
   "cell_type": "markdown",
   "id": "1b4313be-ab37-412d-a842-ccecd6b600d4",
   "metadata": {},
   "source": [
    "I only need the first word of the **Country_Name** column, thus I will use the split() method to return a list of all the words in the string, and extract the first word, followed by replacing the commas with a whitespace.\n",
    "- ```str.split()```: This returns a list of lines\n",
    "- ```str.split().str[x]```: This returns a xth value in the string\n",
    "- ```str.replace(['old value'],'new value')```: This replaces values in a dataframe"
   ]
  },
  {
   "cell_type": "code",
   "execution_count": 5,
   "id": "5d852dd3-a6c0-4c2b-a7ea-6c7cc4b5dd13",
   "metadata": {},
   "outputs": [
    {
     "data": {
      "text/plain": [
       "Continent_Name                object\n",
       "Continent_Code                object\n",
       "Country_Name                  object\n",
       "Two_Letter_Country_Code       object\n",
       "Three_Letter_Country_Code     object\n",
       "Country_Number               float64\n",
       "dtype: object"
      ]
     },
     "execution_count": 5,
     "metadata": {},
     "output_type": "execute_result"
    }
   ],
   "source": [
    "countrycontinentmatch.dtypes"
   ]
  },
  {
   "cell_type": "code",
   "execution_count": 6,
   "id": "f42fb457-5741-480d-bdb3-362c3220e2bb",
   "metadata": {},
   "outputs": [
    {
     "data": {
      "text/plain": [
       "0      Afghanistan,\n",
       "1          Albania,\n",
       "2        Antarctica\n",
       "3          Algeria,\n",
       "4          American\n",
       "           ...     \n",
       "257         Zambia,\n",
       "258        Disputed\n",
       "259      Iraq-Saudi\n",
       "260          United\n",
       "261         Spratly\n",
       "Name: Name, Length: 262, dtype: object"
      ]
     },
     "execution_count": 6,
     "metadata": {},
     "output_type": "execute_result"
    }
   ],
   "source": [
    "#splitting the 'Country_Name' column into lines of lists and extracting the first word with str[0]\n",
    "countrycontinentmatch['Name']=countrycontinentmatch['Country_Name'].str.split(' ').str[0]\n",
    "countrycontinentmatch['Name']"
   ]
  },
  {
   "cell_type": "code",
   "execution_count": 7,
   "id": "db93f302-5477-45f0-ba05-d843041e70aa",
   "metadata": {},
   "outputs": [
    {
     "data": {
      "text/plain": [
       "0      Afghanistan\n",
       "1          Albania\n",
       "2       Antarctica\n",
       "3          Algeria\n",
       "4         American\n",
       "          ...     \n",
       "257         Zambia\n",
       "258       Disputed\n",
       "259     Iraq-Saudi\n",
       "260         United\n",
       "261        Spratly\n",
       "Name: Name, Length: 262, dtype: object"
      ]
     },
     "execution_count": 7,
     "metadata": {},
     "output_type": "execute_result"
    }
   ],
   "source": [
    "#removing the commas from the name column\n",
    "countrycontinentmatch['Name']=countrycontinentmatch['Name'].str.replace(',','')\n",
    "countrycontinentmatch['Name']"
   ]
  },
  {
   "cell_type": "code",
   "execution_count": 8,
   "id": "22e20475-0145-464d-8255-7db5637f3dd6",
   "metadata": {},
   "outputs": [
    {
     "data": {
      "text/html": [
       "<div>\n",
       "<style scoped>\n",
       "    .dataframe tbody tr th:only-of-type {\n",
       "        vertical-align: middle;\n",
       "    }\n",
       "\n",
       "    .dataframe tbody tr th {\n",
       "        vertical-align: top;\n",
       "    }\n",
       "\n",
       "    .dataframe thead th {\n",
       "        text-align: right;\n",
       "    }\n",
       "</style>\n",
       "<table border=\"1\" class=\"dataframe\">\n",
       "  <thead>\n",
       "    <tr style=\"text-align: right;\">\n",
       "      <th></th>\n",
       "      <th>Continent_Name</th>\n",
       "      <th>Continent_Code</th>\n",
       "      <th>Country_Name</th>\n",
       "      <th>Two_Letter_Country_Code</th>\n",
       "      <th>Three_Letter_Country_Code</th>\n",
       "      <th>Country_Number</th>\n",
       "      <th>Name</th>\n",
       "    </tr>\n",
       "  </thead>\n",
       "  <tbody>\n",
       "    <tr>\n",
       "      <th>0</th>\n",
       "      <td>Asia</td>\n",
       "      <td>AS</td>\n",
       "      <td>Afghanistan, Islamic Republic of</td>\n",
       "      <td>AF</td>\n",
       "      <td>AFG</td>\n",
       "      <td>4.0</td>\n",
       "      <td>Afghanistan</td>\n",
       "    </tr>\n",
       "    <tr>\n",
       "      <th>1</th>\n",
       "      <td>Europe</td>\n",
       "      <td>EU</td>\n",
       "      <td>Albania, Republic of</td>\n",
       "      <td>AL</td>\n",
       "      <td>ALB</td>\n",
       "      <td>8.0</td>\n",
       "      <td>Albania</td>\n",
       "    </tr>\n",
       "    <tr>\n",
       "      <th>2</th>\n",
       "      <td>Antarctica</td>\n",
       "      <td>AN</td>\n",
       "      <td>Antarctica (the territory South of 60 deg S)</td>\n",
       "      <td>AQ</td>\n",
       "      <td>ATA</td>\n",
       "      <td>10.0</td>\n",
       "      <td>Antarctica</td>\n",
       "    </tr>\n",
       "    <tr>\n",
       "      <th>3</th>\n",
       "      <td>Africa</td>\n",
       "      <td>AF</td>\n",
       "      <td>Algeria, People's Democratic Republic of</td>\n",
       "      <td>DZ</td>\n",
       "      <td>DZA</td>\n",
       "      <td>12.0</td>\n",
       "      <td>Algeria</td>\n",
       "    </tr>\n",
       "    <tr>\n",
       "      <th>4</th>\n",
       "      <td>Oceania</td>\n",
       "      <td>OC</td>\n",
       "      <td>American Samoa</td>\n",
       "      <td>AS</td>\n",
       "      <td>ASM</td>\n",
       "      <td>16.0</td>\n",
       "      <td>American</td>\n",
       "    </tr>\n",
       "  </tbody>\n",
       "</table>\n",
       "</div>"
      ],
      "text/plain": [
       "  Continent_Name Continent_Code                                  Country_Name  \\\n",
       "0           Asia             AS              Afghanistan, Islamic Republic of   \n",
       "1         Europe             EU                          Albania, Republic of   \n",
       "2     Antarctica             AN  Antarctica (the territory South of 60 deg S)   \n",
       "3         Africa             AF      Algeria, People's Democratic Republic of   \n",
       "4        Oceania             OC                                American Samoa   \n",
       "\n",
       "  Two_Letter_Country_Code Three_Letter_Country_Code  Country_Number  \\\n",
       "0                      AF                       AFG             4.0   \n",
       "1                      AL                       ALB             8.0   \n",
       "2                      AQ                       ATA            10.0   \n",
       "3                      DZ                       DZA            12.0   \n",
       "4                      AS                       ASM            16.0   \n",
       "\n",
       "          Name  \n",
       "0  Afghanistan  \n",
       "1      Albania  \n",
       "2   Antarctica  \n",
       "3      Algeria  \n",
       "4     American  "
      ]
     },
     "execution_count": 8,
     "metadata": {},
     "output_type": "execute_result"
    }
   ],
   "source": [
    "countrycontinentmatch.head()"
   ]
  },
  {
   "cell_type": "markdown",
   "id": "c3a34fc9-995b-405a-9c7f-08adeb36dedb",
   "metadata": {},
   "source": [
    "### Data Merging: Merging Two Datasets with a Common Column Name"
   ]
  },
  {
   "cell_type": "markdown",
   "id": "a46929d9-a73c-4be2-b443-046959d701b9",
   "metadata": {},
   "source": [
    "Here, I want to classify the countries in the **alcoholdata** dataframe to match the continents in the **countrycontinentmatch** dataframe. \n",
    "\n",
    "I am only interested in the continent name and country for the **countrycontinentmatch** dataframe, let's extract that into its own dataframe **countires**. In this new dataframe, it only consists of 2 columns: Continent, country. Note that I renamed the name to country to match the column name in the alcoholdata dataframe, so that I can leverage the merge function to automatically join using *country* as a common key.\n",
    "- ```pd.merge()```: Automatically joins dataframes using a common key. If not we can use *left_on* or *right_on* keywords to specify the different column names. \n",
    "\n",
    "The output of this is a new dataframe **newalcoholdata** with an additional column for *Continent*"
   ]
  },
  {
   "cell_type": "code",
   "execution_count": 9,
   "id": "5cd0c675-c78b-47a7-b739-f3adc366d18b",
   "metadata": {},
   "outputs": [
    {
     "name": "stderr",
     "output_type": "stream",
     "text": [
      "/opt/conda/envs/ADA522/lib/python3.8/site-packages/pandas/core/frame.py:4441: SettingWithCopyWarning: \n",
      "A value is trying to be set on a copy of a slice from a DataFrame\n",
      "\n",
      "See the caveats in the documentation: https://pandas.pydata.org/pandas-docs/stable/user_guide/indexing.html#returning-a-view-versus-a-copy\n",
      "  return super().rename(\n"
     ]
    },
    {
     "data": {
      "text/html": [
       "<div>\n",
       "<style scoped>\n",
       "    .dataframe tbody tr th:only-of-type {\n",
       "        vertical-align: middle;\n",
       "    }\n",
       "\n",
       "    .dataframe tbody tr th {\n",
       "        vertical-align: top;\n",
       "    }\n",
       "\n",
       "    .dataframe thead th {\n",
       "        text-align: right;\n",
       "    }\n",
       "</style>\n",
       "<table border=\"1\" class=\"dataframe\">\n",
       "  <thead>\n",
       "    <tr style=\"text-align: right;\">\n",
       "      <th></th>\n",
       "      <th>Continent</th>\n",
       "      <th>country</th>\n",
       "    </tr>\n",
       "  </thead>\n",
       "  <tbody>\n",
       "    <tr>\n",
       "      <th>0</th>\n",
       "      <td>Asia</td>\n",
       "      <td>Afghanistan</td>\n",
       "    </tr>\n",
       "    <tr>\n",
       "      <th>1</th>\n",
       "      <td>Europe</td>\n",
       "      <td>Albania</td>\n",
       "    </tr>\n",
       "    <tr>\n",
       "      <th>2</th>\n",
       "      <td>Antarctica</td>\n",
       "      <td>Antarctica</td>\n",
       "    </tr>\n",
       "    <tr>\n",
       "      <th>3</th>\n",
       "      <td>Africa</td>\n",
       "      <td>Algeria</td>\n",
       "    </tr>\n",
       "    <tr>\n",
       "      <th>4</th>\n",
       "      <td>Oceania</td>\n",
       "      <td>American</td>\n",
       "    </tr>\n",
       "    <tr>\n",
       "      <th>...</th>\n",
       "      <td>...</td>\n",
       "      <td>...</td>\n",
       "    </tr>\n",
       "    <tr>\n",
       "      <th>257</th>\n",
       "      <td>Africa</td>\n",
       "      <td>Zambia</td>\n",
       "    </tr>\n",
       "    <tr>\n",
       "      <th>258</th>\n",
       "      <td>Oceania</td>\n",
       "      <td>Disputed</td>\n",
       "    </tr>\n",
       "    <tr>\n",
       "      <th>259</th>\n",
       "      <td>Asia</td>\n",
       "      <td>Iraq-Saudi</td>\n",
       "    </tr>\n",
       "    <tr>\n",
       "      <th>260</th>\n",
       "      <td>Asia</td>\n",
       "      <td>United</td>\n",
       "    </tr>\n",
       "    <tr>\n",
       "      <th>261</th>\n",
       "      <td>Asia</td>\n",
       "      <td>Spratly</td>\n",
       "    </tr>\n",
       "  </tbody>\n",
       "</table>\n",
       "<p>262 rows × 2 columns</p>\n",
       "</div>"
      ],
      "text/plain": [
       "      Continent      country\n",
       "0          Asia  Afghanistan\n",
       "1        Europe      Albania\n",
       "2    Antarctica   Antarctica\n",
       "3        Africa      Algeria\n",
       "4       Oceania     American\n",
       "..          ...          ...\n",
       "257      Africa       Zambia\n",
       "258     Oceania     Disputed\n",
       "259        Asia   Iraq-Saudi\n",
       "260        Asia       United\n",
       "261        Asia      Spratly\n",
       "\n",
       "[262 rows x 2 columns]"
      ]
     },
     "execution_count": 9,
     "metadata": {},
     "output_type": "execute_result"
    }
   ],
   "source": [
    "countries=countrycontinentmatch[['Continent_Name','Name']]\n",
    "countries.rename(columns={'Continent_Name':'Continent','Name':'country'},inplace=True)\n",
    "countries"
   ]
  },
  {
   "cell_type": "code",
   "execution_count": 10,
   "id": "cc04c2d4-a659-4dae-84c4-d58ae704359a",
   "metadata": {},
   "outputs": [
    {
     "data": {
      "text/html": [
       "<div>\n",
       "<style scoped>\n",
       "    .dataframe tbody tr th:only-of-type {\n",
       "        vertical-align: middle;\n",
       "    }\n",
       "\n",
       "    .dataframe tbody tr th {\n",
       "        vertical-align: top;\n",
       "    }\n",
       "\n",
       "    .dataframe thead th {\n",
       "        text-align: right;\n",
       "    }\n",
       "</style>\n",
       "<table border=\"1\" class=\"dataframe\">\n",
       "  <thead>\n",
       "    <tr style=\"text-align: right;\">\n",
       "      <th></th>\n",
       "      <th>Continent</th>\n",
       "      <th>country</th>\n",
       "      <th>beer_servings</th>\n",
       "      <th>spirit_servings</th>\n",
       "      <th>wine_servings</th>\n",
       "      <th>total_litres_of_pure_alcohol</th>\n",
       "    </tr>\n",
       "  </thead>\n",
       "  <tbody>\n",
       "    <tr>\n",
       "      <th>0</th>\n",
       "      <td>Asia</td>\n",
       "      <td>Afghanistan</td>\n",
       "      <td>0</td>\n",
       "      <td>0</td>\n",
       "      <td>0</td>\n",
       "      <td>0.0</td>\n",
       "    </tr>\n",
       "    <tr>\n",
       "      <th>1</th>\n",
       "      <td>Europe</td>\n",
       "      <td>Albania</td>\n",
       "      <td>89</td>\n",
       "      <td>132</td>\n",
       "      <td>54</td>\n",
       "      <td>4.9</td>\n",
       "    </tr>\n",
       "    <tr>\n",
       "      <th>2</th>\n",
       "      <td>Africa</td>\n",
       "      <td>Algeria</td>\n",
       "      <td>25</td>\n",
       "      <td>0</td>\n",
       "      <td>14</td>\n",
       "      <td>0.7</td>\n",
       "    </tr>\n",
       "    <tr>\n",
       "      <th>3</th>\n",
       "      <td>Europe</td>\n",
       "      <td>Andorra</td>\n",
       "      <td>245</td>\n",
       "      <td>138</td>\n",
       "      <td>312</td>\n",
       "      <td>12.4</td>\n",
       "    </tr>\n",
       "    <tr>\n",
       "      <th>4</th>\n",
       "      <td>Africa</td>\n",
       "      <td>Angola</td>\n",
       "      <td>217</td>\n",
       "      <td>57</td>\n",
       "      <td>45</td>\n",
       "      <td>5.9</td>\n",
       "    </tr>\n",
       "    <tr>\n",
       "      <th>...</th>\n",
       "      <td>...</td>\n",
       "      <td>...</td>\n",
       "      <td>...</td>\n",
       "      <td>...</td>\n",
       "      <td>...</td>\n",
       "      <td>...</td>\n",
       "    </tr>\n",
       "    <tr>\n",
       "      <th>159</th>\n",
       "      <td>Asia</td>\n",
       "      <td>Uzbekistan</td>\n",
       "      <td>25</td>\n",
       "      <td>101</td>\n",
       "      <td>8</td>\n",
       "      <td>2.4</td>\n",
       "    </tr>\n",
       "    <tr>\n",
       "      <th>160</th>\n",
       "      <td>South America</td>\n",
       "      <td>Venezuela</td>\n",
       "      <td>333</td>\n",
       "      <td>100</td>\n",
       "      <td>3</td>\n",
       "      <td>7.7</td>\n",
       "    </tr>\n",
       "    <tr>\n",
       "      <th>161</th>\n",
       "      <td>Oceania</td>\n",
       "      <td>Samoa</td>\n",
       "      <td>105</td>\n",
       "      <td>18</td>\n",
       "      <td>24</td>\n",
       "      <td>2.6</td>\n",
       "    </tr>\n",
       "    <tr>\n",
       "      <th>162</th>\n",
       "      <td>Asia</td>\n",
       "      <td>Yemen</td>\n",
       "      <td>6</td>\n",
       "      <td>0</td>\n",
       "      <td>0</td>\n",
       "      <td>0.1</td>\n",
       "    </tr>\n",
       "    <tr>\n",
       "      <th>163</th>\n",
       "      <td>Africa</td>\n",
       "      <td>Zambia</td>\n",
       "      <td>32</td>\n",
       "      <td>19</td>\n",
       "      <td>4</td>\n",
       "      <td>2.5</td>\n",
       "    </tr>\n",
       "  </tbody>\n",
       "</table>\n",
       "<p>164 rows × 6 columns</p>\n",
       "</div>"
      ],
      "text/plain": [
       "         Continent      country  beer_servings  spirit_servings  \\\n",
       "0             Asia  Afghanistan              0                0   \n",
       "1           Europe      Albania             89              132   \n",
       "2           Africa      Algeria             25                0   \n",
       "3           Europe      Andorra            245              138   \n",
       "4           Africa       Angola            217               57   \n",
       "..             ...          ...            ...              ...   \n",
       "159           Asia   Uzbekistan             25              101   \n",
       "160  South America    Venezuela            333              100   \n",
       "161        Oceania        Samoa            105               18   \n",
       "162           Asia        Yemen              6                0   \n",
       "163         Africa       Zambia             32               19   \n",
       "\n",
       "     wine_servings  total_litres_of_pure_alcohol  \n",
       "0                0                           0.0  \n",
       "1               54                           4.9  \n",
       "2               14                           0.7  \n",
       "3              312                          12.4  \n",
       "4               45                           5.9  \n",
       "..             ...                           ...  \n",
       "159              8                           2.4  \n",
       "160              3                           7.7  \n",
       "161             24                           2.6  \n",
       "162              0                           0.1  \n",
       "163              4                           2.5  \n",
       "\n",
       "[164 rows x 6 columns]"
      ]
     },
     "execution_count": 10,
     "metadata": {},
     "output_type": "execute_result"
    }
   ],
   "source": [
    "newalcoholdata=pd.merge(countries, alcoholdata)\n",
    "newalcoholdata"
   ]
  },
  {
   "cell_type": "markdown",
   "id": "69e732fa-f1f3-4f77-b7c5-b0e46ffcf642",
   "metadata": {},
   "source": [
    "### Data Cleaning: Removing duplicate countries from the dataframe"
   ]
  },
  {
   "cell_type": "markdown",
   "id": "678f21bf-25af-4374-9254-d9d09598c302",
   "metadata": {},
   "source": [
    "Given that we combined 2 different datasets, I want to make sure that there are no null values in the columns. I would do this using:\n",
    "- ```df.isna().sum()```: Displays number of null values in each of the columns of the dataframe\n",
    "\n",
    "What I can gather from this dataset is:\n",
    "- There are no null values so I will not need to remove any column / rows with null values. \n",
    "- There are 164 rows and 6 columns in this dataset\n",
    "- Within the continent column, there are 6 unique variable which are Asian, Europe, Africa, South America, Oceania, and North America. This poses a potential opportunity to use groupby to summarize our findings.\n",
    "- Within the country column, there are 156 unique values which means that there are 8 countries in the column that have duplicated values.\n",
    "- ```df.duplicated(subset=['col'])```: Displays boolean (T/F) values of duplicate rows. Keep determines which duplicates to keep (first = first occurence is False default, last = last occufrence is False)\n",
    "- ```df[df.duplicated(subset=['col'])]```: Displays dataframe of duplicate values\n",
    "- ```df.drop_duplicates()```: If we want to keep the first occurences, put keep = first, else = last, False= drop all duplicates"
   ]
  },
  {
   "cell_type": "code",
   "execution_count": 11,
   "id": "223ca6cf-a089-464b-afa4-bc9d974b6f05",
   "metadata": {},
   "outputs": [
    {
     "data": {
      "text/plain": [
       "(164, 6)"
      ]
     },
     "execution_count": 11,
     "metadata": {},
     "output_type": "execute_result"
    }
   ],
   "source": [
    "newalcoholdata.shape"
   ]
  },
  {
   "cell_type": "code",
   "execution_count": 12,
   "id": "a3820b8b-def3-46a9-b2be-5b18a6dd6534",
   "metadata": {},
   "outputs": [
    {
     "data": {
      "text/plain": [
       "Continent                       0\n",
       "country                         0\n",
       "beer_servings                   0\n",
       "spirit_servings                 0\n",
       "wine_servings                   0\n",
       "total_litres_of_pure_alcohol    0\n",
       "dtype: int64"
      ]
     },
     "execution_count": 12,
     "metadata": {},
     "output_type": "execute_result"
    }
   ],
   "source": [
    "newalcoholdata.isna().sum()"
   ]
  },
  {
   "cell_type": "code",
   "execution_count": 13,
   "id": "9abb063b-34c3-4b56-886e-0ff93b8db887",
   "metadata": {},
   "outputs": [
    {
     "data": {
      "text/plain": [
       "6"
      ]
     },
     "execution_count": 13,
     "metadata": {},
     "output_type": "execute_result"
    }
   ],
   "source": [
    "newalcoholdata['Continent'].nunique()"
   ]
  },
  {
   "cell_type": "code",
   "execution_count": 14,
   "id": "04c55938-2cdf-4cac-bd79-d021b54ca21d",
   "metadata": {},
   "outputs": [
    {
     "data": {
      "text/plain": [
       "array(['Asia', 'Europe', 'Africa', 'South America', 'Oceania',\n",
       "       'North America'], dtype=object)"
      ]
     },
     "execution_count": 14,
     "metadata": {},
     "output_type": "execute_result"
    }
   ],
   "source": [
    "newalcoholdata['Continent'].unique()"
   ]
  },
  {
   "cell_type": "code",
   "execution_count": 15,
   "id": "6031e527-06b2-4496-a1a7-294be7310979",
   "metadata": {
    "tags": []
   },
   "outputs": [
    {
     "data": {
      "text/plain": [
       "156"
      ]
     },
     "execution_count": 15,
     "metadata": {},
     "output_type": "execute_result"
    }
   ],
   "source": [
    "newalcoholdata['country'].nunique()"
   ]
  },
  {
   "cell_type": "markdown",
   "id": "1226d119-4b8b-4d25-93b3-d73def9b4900",
   "metadata": {},
   "source": [
    "We see below that several Middle Eastern countries such as Azerbaijan, Armenia, Cyprus, Georgia, Kazakhstan, and Turkey show both Asia and Europe as the continent. This is because they span between Asian and Europe; they could be interpreted differently by people.\n",
    "\n",
    "In order to keep the consistency, I will drop the second duplicate for all these values. I went with this decision based on the categorization of Netherlands since it is in Europe and not in North America. Now, we see that the new dataframe **newalcoholdata** has 156 rows and 6 columns, which is what we want. It has the same number of unique values in the 'country' column. "
   ]
  },
  {
   "cell_type": "code",
   "execution_count": 16,
   "id": "abd66e9c-1e97-41c6-97dc-9def3b52865c",
   "metadata": {
    "tags": []
   },
   "outputs": [
    {
     "data": {
      "text/html": [
       "<div>\n",
       "<style scoped>\n",
       "    .dataframe tbody tr th:only-of-type {\n",
       "        vertical-align: middle;\n",
       "    }\n",
       "\n",
       "    .dataframe tbody tr th {\n",
       "        vertical-align: top;\n",
       "    }\n",
       "\n",
       "    .dataframe thead th {\n",
       "        text-align: right;\n",
       "    }\n",
       "</style>\n",
       "<table border=\"1\" class=\"dataframe\">\n",
       "  <thead>\n",
       "    <tr style=\"text-align: right;\">\n",
       "      <th></th>\n",
       "      <th>Continent</th>\n",
       "      <th>country</th>\n",
       "      <th>beer_servings</th>\n",
       "      <th>spirit_servings</th>\n",
       "      <th>wine_servings</th>\n",
       "      <th>total_litres_of_pure_alcohol</th>\n",
       "    </tr>\n",
       "  </thead>\n",
       "  <tbody>\n",
       "    <tr>\n",
       "      <th>5</th>\n",
       "      <td>Europe</td>\n",
       "      <td>Azerbaijan</td>\n",
       "      <td>21</td>\n",
       "      <td>46</td>\n",
       "      <td>5</td>\n",
       "      <td>1.3</td>\n",
       "    </tr>\n",
       "    <tr>\n",
       "      <th>6</th>\n",
       "      <td>Asia</td>\n",
       "      <td>Azerbaijan</td>\n",
       "      <td>21</td>\n",
       "      <td>46</td>\n",
       "      <td>5</td>\n",
       "      <td>1.3</td>\n",
       "    </tr>\n",
       "    <tr>\n",
       "      <th>13</th>\n",
       "      <td>Europe</td>\n",
       "      <td>Armenia</td>\n",
       "      <td>21</td>\n",
       "      <td>179</td>\n",
       "      <td>11</td>\n",
       "      <td>3.8</td>\n",
       "    </tr>\n",
       "    <tr>\n",
       "      <th>14</th>\n",
       "      <td>Asia</td>\n",
       "      <td>Armenia</td>\n",
       "      <td>21</td>\n",
       "      <td>179</td>\n",
       "      <td>11</td>\n",
       "      <td>3.8</td>\n",
       "    </tr>\n",
       "    <tr>\n",
       "      <th>35</th>\n",
       "      <td>Africa</td>\n",
       "      <td>Congo</td>\n",
       "      <td>76</td>\n",
       "      <td>1</td>\n",
       "      <td>9</td>\n",
       "      <td>1.7</td>\n",
       "    </tr>\n",
       "    <tr>\n",
       "      <th>36</th>\n",
       "      <td>Africa</td>\n",
       "      <td>Congo</td>\n",
       "      <td>76</td>\n",
       "      <td>1</td>\n",
       "      <td>9</td>\n",
       "      <td>1.7</td>\n",
       "    </tr>\n",
       "    <tr>\n",
       "      <th>39</th>\n",
       "      <td>Europe</td>\n",
       "      <td>Cyprus</td>\n",
       "      <td>192</td>\n",
       "      <td>154</td>\n",
       "      <td>113</td>\n",
       "      <td>8.2</td>\n",
       "    </tr>\n",
       "    <tr>\n",
       "      <th>40</th>\n",
       "      <td>Asia</td>\n",
       "      <td>Cyprus</td>\n",
       "      <td>192</td>\n",
       "      <td>154</td>\n",
       "      <td>113</td>\n",
       "      <td>8.2</td>\n",
       "    </tr>\n",
       "    <tr>\n",
       "      <th>53</th>\n",
       "      <td>Europe</td>\n",
       "      <td>Georgia</td>\n",
       "      <td>52</td>\n",
       "      <td>100</td>\n",
       "      <td>149</td>\n",
       "      <td>5.4</td>\n",
       "    </tr>\n",
       "    <tr>\n",
       "      <th>54</th>\n",
       "      <td>Asia</td>\n",
       "      <td>Georgia</td>\n",
       "      <td>52</td>\n",
       "      <td>100</td>\n",
       "      <td>149</td>\n",
       "      <td>5.4</td>\n",
       "    </tr>\n",
       "    <tr>\n",
       "      <th>77</th>\n",
       "      <td>Europe</td>\n",
       "      <td>Kazakhstan</td>\n",
       "      <td>124</td>\n",
       "      <td>246</td>\n",
       "      <td>12</td>\n",
       "      <td>6.8</td>\n",
       "    </tr>\n",
       "    <tr>\n",
       "      <th>78</th>\n",
       "      <td>Asia</td>\n",
       "      <td>Kazakhstan</td>\n",
       "      <td>124</td>\n",
       "      <td>246</td>\n",
       "      <td>12</td>\n",
       "      <td>6.8</td>\n",
       "    </tr>\n",
       "    <tr>\n",
       "      <th>107</th>\n",
       "      <td>Europe</td>\n",
       "      <td>Netherlands</td>\n",
       "      <td>251</td>\n",
       "      <td>88</td>\n",
       "      <td>190</td>\n",
       "      <td>9.4</td>\n",
       "    </tr>\n",
       "    <tr>\n",
       "      <th>108</th>\n",
       "      <td>North America</td>\n",
       "      <td>Netherlands</td>\n",
       "      <td>251</td>\n",
       "      <td>88</td>\n",
       "      <td>190</td>\n",
       "      <td>9.4</td>\n",
       "    </tr>\n",
       "    <tr>\n",
       "      <th>149</th>\n",
       "      <td>Europe</td>\n",
       "      <td>Turkey</td>\n",
       "      <td>51</td>\n",
       "      <td>22</td>\n",
       "      <td>7</td>\n",
       "      <td>1.4</td>\n",
       "    </tr>\n",
       "    <tr>\n",
       "      <th>150</th>\n",
       "      <td>Asia</td>\n",
       "      <td>Turkey</td>\n",
       "      <td>51</td>\n",
       "      <td>22</td>\n",
       "      <td>7</td>\n",
       "      <td>1.4</td>\n",
       "    </tr>\n",
       "  </tbody>\n",
       "</table>\n",
       "</div>"
      ],
      "text/plain": [
       "         Continent      country  beer_servings  spirit_servings  \\\n",
       "5           Europe   Azerbaijan             21               46   \n",
       "6             Asia   Azerbaijan             21               46   \n",
       "13          Europe      Armenia             21              179   \n",
       "14            Asia      Armenia             21              179   \n",
       "35          Africa        Congo             76                1   \n",
       "36          Africa        Congo             76                1   \n",
       "39          Europe       Cyprus            192              154   \n",
       "40            Asia       Cyprus            192              154   \n",
       "53          Europe      Georgia             52              100   \n",
       "54            Asia      Georgia             52              100   \n",
       "77          Europe   Kazakhstan            124              246   \n",
       "78            Asia   Kazakhstan            124              246   \n",
       "107         Europe  Netherlands            251               88   \n",
       "108  North America  Netherlands            251               88   \n",
       "149         Europe       Turkey             51               22   \n",
       "150           Asia       Turkey             51               22   \n",
       "\n",
       "     wine_servings  total_litres_of_pure_alcohol  \n",
       "5                5                           1.3  \n",
       "6                5                           1.3  \n",
       "13              11                           3.8  \n",
       "14              11                           3.8  \n",
       "35               9                           1.7  \n",
       "36               9                           1.7  \n",
       "39             113                           8.2  \n",
       "40             113                           8.2  \n",
       "53             149                           5.4  \n",
       "54             149                           5.4  \n",
       "77              12                           6.8  \n",
       "78              12                           6.8  \n",
       "107            190                           9.4  \n",
       "108            190                           9.4  \n",
       "149              7                           1.4  \n",
       "150              7                           1.4  "
      ]
     },
     "execution_count": 16,
     "metadata": {},
     "output_type": "execute_result"
    }
   ],
   "source": [
    "newalcoholdata[newalcoholdata.duplicated(subset=['country'], keep=False)]"
   ]
  },
  {
   "cell_type": "code",
   "execution_count": 17,
   "id": "67ef3447-1dc0-4e09-946e-305ecdecedba",
   "metadata": {},
   "outputs": [
    {
     "data": {
      "text/plain": [
       "(156, 6)"
      ]
     },
     "execution_count": 17,
     "metadata": {},
     "output_type": "execute_result"
    }
   ],
   "source": [
    "newalcoholdata.drop_duplicates(subset=['country'], keep='first', inplace=True)\n",
    "newalcoholdata.shape"
   ]
  },
  {
   "cell_type": "markdown",
   "id": "a1b7c4d1-71e1-40af-800e-3ec6da3cf4a1",
   "metadata": {},
   "source": [
    "### Data Grouping and Categorization: Retrieving summary statistics of the continents"
   ]
  },
  {
   "cell_type": "markdown",
   "id": "ea00727c-599a-4eaa-9307-d3f443fd49d5",
   "metadata": {},
   "source": [
    "Next, I wanted to analyze the difference in beer, spirit, and wine servings across the different continents and / or countries. I used the groupby function to segregate the data by continent and country.\n",
    "- ```df.groupby(['col to group by'])[col to display].aggregate()```: This function allows us to split data into separate groups to better perform analysis\n",
    "\n",
    "However, I noticed that the continent column, which had  6 unique variables (Asian, Europe, Africa, South America, Oceania, and North America) poses a potential opportunity to use pivot to summarize our findings.\n",
    "- ```pd.pivot_table(df, index='col',values='col',aggfunc='x')```: This function allows us to summarize data of a larger table"
   ]
  },
  {
   "cell_type": "code",
   "execution_count": 18,
   "id": "5daa1776-1d20-4ca8-abc2-c0d6f270e315",
   "metadata": {
    "tags": []
   },
   "outputs": [
    {
     "data": {
      "text/html": [
       "<div>\n",
       "<style scoped>\n",
       "    .dataframe tbody tr th:only-of-type {\n",
       "        vertical-align: middle;\n",
       "    }\n",
       "\n",
       "    .dataframe tbody tr th {\n",
       "        vertical-align: top;\n",
       "    }\n",
       "\n",
       "    .dataframe thead th {\n",
       "        text-align: right;\n",
       "    }\n",
       "</style>\n",
       "<table border=\"1\" class=\"dataframe\">\n",
       "  <thead>\n",
       "    <tr style=\"text-align: right;\">\n",
       "      <th></th>\n",
       "      <th></th>\n",
       "      <th>beer_servings</th>\n",
       "      <th>spirit_servings</th>\n",
       "      <th>wine_servings</th>\n",
       "      <th>total_litres_of_pure_alcohol</th>\n",
       "    </tr>\n",
       "    <tr>\n",
       "      <th>Continent</th>\n",
       "      <th>country</th>\n",
       "      <th></th>\n",
       "      <th></th>\n",
       "      <th></th>\n",
       "      <th></th>\n",
       "    </tr>\n",
       "  </thead>\n",
       "  <tbody>\n",
       "    <tr>\n",
       "      <th rowspan=\"5\" valign=\"top\">Africa</th>\n",
       "      <th>Algeria</th>\n",
       "      <td>25</td>\n",
       "      <td>0</td>\n",
       "      <td>14</td>\n",
       "      <td>0.7</td>\n",
       "    </tr>\n",
       "    <tr>\n",
       "      <th>Angola</th>\n",
       "      <td>217</td>\n",
       "      <td>57</td>\n",
       "      <td>45</td>\n",
       "      <td>5.9</td>\n",
       "    </tr>\n",
       "    <tr>\n",
       "      <th>Benin</th>\n",
       "      <td>34</td>\n",
       "      <td>4</td>\n",
       "      <td>13</td>\n",
       "      <td>1.1</td>\n",
       "    </tr>\n",
       "    <tr>\n",
       "      <th>Botswana</th>\n",
       "      <td>173</td>\n",
       "      <td>35</td>\n",
       "      <td>35</td>\n",
       "      <td>5.4</td>\n",
       "    </tr>\n",
       "    <tr>\n",
       "      <th>Burundi</th>\n",
       "      <td>88</td>\n",
       "      <td>0</td>\n",
       "      <td>0</td>\n",
       "      <td>6.3</td>\n",
       "    </tr>\n",
       "    <tr>\n",
       "      <th>...</th>\n",
       "      <th>...</th>\n",
       "      <td>...</td>\n",
       "      <td>...</td>\n",
       "      <td>...</td>\n",
       "      <td>...</td>\n",
       "    </tr>\n",
       "    <tr>\n",
       "      <th rowspan=\"5\" valign=\"top\">South America</th>\n",
       "      <th>Paraguay</th>\n",
       "      <td>213</td>\n",
       "      <td>117</td>\n",
       "      <td>74</td>\n",
       "      <td>7.3</td>\n",
       "    </tr>\n",
       "    <tr>\n",
       "      <th>Peru</th>\n",
       "      <td>163</td>\n",
       "      <td>160</td>\n",
       "      <td>21</td>\n",
       "      <td>6.1</td>\n",
       "    </tr>\n",
       "    <tr>\n",
       "      <th>Suriname</th>\n",
       "      <td>128</td>\n",
       "      <td>178</td>\n",
       "      <td>7</td>\n",
       "      <td>5.6</td>\n",
       "    </tr>\n",
       "    <tr>\n",
       "      <th>Uruguay</th>\n",
       "      <td>115</td>\n",
       "      <td>35</td>\n",
       "      <td>220</td>\n",
       "      <td>6.6</td>\n",
       "    </tr>\n",
       "    <tr>\n",
       "      <th>Venezuela</th>\n",
       "      <td>333</td>\n",
       "      <td>100</td>\n",
       "      <td>3</td>\n",
       "      <td>7.7</td>\n",
       "    </tr>\n",
       "  </tbody>\n",
       "</table>\n",
       "<p>156 rows × 4 columns</p>\n",
       "</div>"
      ],
      "text/plain": [
       "                         beer_servings  spirit_servings  wine_servings  \\\n",
       "Continent     country                                                    \n",
       "Africa        Algeria               25                0             14   \n",
       "              Angola               217               57             45   \n",
       "              Benin                 34                4             13   \n",
       "              Botswana             173               35             35   \n",
       "              Burundi               88                0              0   \n",
       "...                                ...              ...            ...   \n",
       "South America Paraguay             213              117             74   \n",
       "              Peru                 163              160             21   \n",
       "              Suriname             128              178              7   \n",
       "              Uruguay              115               35            220   \n",
       "              Venezuela            333              100              3   \n",
       "\n",
       "                         total_litres_of_pure_alcohol  \n",
       "Continent     country                                  \n",
       "Africa        Algeria                             0.7  \n",
       "              Angola                              5.9  \n",
       "              Benin                               1.1  \n",
       "              Botswana                            5.4  \n",
       "              Burundi                             6.3  \n",
       "...                                               ...  \n",
       "South America Paraguay                            7.3  \n",
       "              Peru                                6.1  \n",
       "              Suriname                            5.6  \n",
       "              Uruguay                             6.6  \n",
       "              Venezuela                           7.7  \n",
       "\n",
       "[156 rows x 4 columns]"
      ]
     },
     "execution_count": 18,
     "metadata": {},
     "output_type": "execute_result"
    }
   ],
   "source": [
    "newalcoholdata.groupby(['Continent','country']).sum()"
   ]
  },
  {
   "cell_type": "markdown",
   "id": "af444a35-eea3-4e37-aa3b-11d7a3a6a9da",
   "metadata": {},
   "source": [
    "Findings #1:\n",
    "- As shown in the **grouped bar chart**, out of the 6 continents, Europe has the highest number of alcohol servings across all types (beer, spirit, wine). Since there is one column that uses litres as a measurement unit, while the other 3 columns use number of servings, I will exclude the liters column for this visualization. \n",
    "- As shown in the **pie chart**, I wanted to ensure that this finding is not skewed by larger number of countries within Europe, so I decided to calculate the number of countries categorized within each continent using ```df.groupby``` to see if that affects the alcohol servings across continents. It turns out that Europe and Africa continets have the largest number of countries, followed by Asia, North America, South America, and Oceania. This shows that there is no strong correlation between alcohol servings and number of countries within each continent. Although the number of countries in Europe and Africa continents are the same, Europe has a significantly higher alcohol servings than Asia."
   ]
  },
  {
   "cell_type": "code",
   "execution_count": 19,
   "id": "36b96418-db47-4738-b1b2-5ba2ec1cfba8",
   "metadata": {},
   "outputs": [
    {
     "data": {
      "text/html": [
       "<div>\n",
       "<style scoped>\n",
       "    .dataframe tbody tr th:only-of-type {\n",
       "        vertical-align: middle;\n",
       "    }\n",
       "\n",
       "    .dataframe tbody tr th {\n",
       "        vertical-align: top;\n",
       "    }\n",
       "\n",
       "    .dataframe thead th {\n",
       "        text-align: right;\n",
       "    }\n",
       "</style>\n",
       "<table border=\"1\" class=\"dataframe\">\n",
       "  <thead>\n",
       "    <tr style=\"text-align: right;\">\n",
       "      <th></th>\n",
       "      <th>beer_servings</th>\n",
       "      <th>spirit_servings</th>\n",
       "      <th>wine_servings</th>\n",
       "    </tr>\n",
       "    <tr>\n",
       "      <th>Continent</th>\n",
       "      <th></th>\n",
       "      <th></th>\n",
       "      <th></th>\n",
       "    </tr>\n",
       "  </thead>\n",
       "  <tbody>\n",
       "    <tr>\n",
       "      <th>Africa</th>\n",
       "      <td>2605</td>\n",
       "      <td>680</td>\n",
       "      <td>374</td>\n",
       "    </tr>\n",
       "    <tr>\n",
       "      <th>Asia</th>\n",
       "      <td>938</td>\n",
       "      <td>1691</td>\n",
       "      <td>148</td>\n",
       "    </tr>\n",
       "    <tr>\n",
       "      <th>Europe</th>\n",
       "      <td>8239</td>\n",
       "      <td>5764</td>\n",
       "      <td>6082</td>\n",
       "    </tr>\n",
       "    <tr>\n",
       "      <th>North America</th>\n",
       "      <td>1918</td>\n",
       "      <td>2326</td>\n",
       "      <td>292</td>\n",
       "    </tr>\n",
       "    <tr>\n",
       "      <th>Oceania</th>\n",
       "      <td>1132</td>\n",
       "      <td>552</td>\n",
       "      <td>319</td>\n",
       "    </tr>\n",
       "    <tr>\n",
       "      <th>South America</th>\n",
       "      <td>2101</td>\n",
       "      <td>1377</td>\n",
       "      <td>749</td>\n",
       "    </tr>\n",
       "  </tbody>\n",
       "</table>\n",
       "</div>"
      ],
      "text/plain": [
       "               beer_servings  spirit_servings  wine_servings\n",
       "Continent                                                   \n",
       "Africa                  2605              680            374\n",
       "Asia                     938             1691            148\n",
       "Europe                  8239             5764           6082\n",
       "North America           1918             2326            292\n",
       "Oceania                 1132              552            319\n",
       "South America           2101             1377            749"
      ]
     },
     "execution_count": 19,
     "metadata": {},
     "output_type": "execute_result"
    }
   ],
   "source": [
    "df_pivot=pd.pivot_table(newalcoholdata, index='Continent',values=['beer_servings','spirit_servings','wine_servings'], aggfunc='sum')\n",
    "df_pivot"
   ]
  },
  {
   "cell_type": "code",
   "execution_count": 20,
   "id": "8119b673-f41f-4927-8028-a9595e19798b",
   "metadata": {},
   "outputs": [
    {
     "data": {
      "image/png": "[encoded data removed]",
      "text/plain": [
       "<Figure size 432x288 with 1 Axes>"
      ]
     },
     "metadata": {
      "needs_background": "light"
     },
     "output_type": "display_data"
    }
   ],
   "source": [
    "#Creatng a grouped bar chart using matplotlib\n",
    "ax=df_pivot.plot(kind=\"bar\",alpha=0.5)\n",
    "plt.title('Alcohol Serving Across 6 Continents')\n",
    "plt.xlabel('Continent')\n",
    "plt.ylabel('Alcohol Servings')\n",
    "\n",
    "#Show plot\n",
    "plt.show()"
   ]
  },
  {
   "cell_type": "code",
   "execution_count": 21,
   "id": "70b63e4d-6a15-4ea7-9c5d-6101eae25b7c",
   "metadata": {},
   "outputs": [
    {
     "data": {
      "text/plain": [
       "Continent\n",
       "Africa           43\n",
       "Asia             33\n",
       "Europe           43\n",
       "North America    14\n",
       "Oceania          11\n",
       "South America    12\n",
       "Name: country, dtype: int64"
      ]
     },
     "execution_count": 21,
     "metadata": {},
     "output_type": "execute_result"
    }
   ],
   "source": [
    "groupedcontinent=newalcoholdata.groupby('Continent')['country'].count()\n",
    "groupedcontinent"
   ]
  },
  {
   "cell_type": "code",
   "execution_count": 22,
   "id": "796605b5-d01c-4471-96d0-c6eea455da31",
   "metadata": {},
   "outputs": [
    {
     "data": {
      "text/plain": [
       "<AxesSubplot:ylabel='country'>"
      ]
     },
     "execution_count": 22,
     "metadata": {},
     "output_type": "execute_result"
    },
    {
     "data": {
      "image/png": "[encoded data removed]",
      "text/plain": [
       "<Figure size 432x288 with 1 Axes>"
      ]
     },
     "metadata": {},
     "output_type": "display_data"
    }
   ],
   "source": [
    "colors = ['lightsteelblue', 'thistle', 'pink', 'darkkhaki', 'wheat','lightcoral']\n",
    "groupedcontinent.plot.pie(colors=colors)"
   ]
  },
  {
   "cell_type": "markdown",
   "id": "4c696cd1-ffcf-47e8-a716-afdab9aa9277",
   "metadata": {},
   "source": [
    "Since we narrowed down that Europe has the largest alcohol consumption, I am interested in finding out which countries within Europe have the highest number of beer, spirit, and wine servings respectively.\n",
    "\n",
    "- ```df['col'].max()```: This shows us the max value\n",
    "- ```df['col']=`df['col'].max()```: This shows us true / false boolean values \n",
    "-```df[df['col']=`df['col'].max()]```: This returns the rows with the max column value\n",
    "-```pd.concat([df1,df2,df3])```: This concatenates the dataframes vertically. Concat, merge and join function similarly. The difference is that ***concat*** combines dataframes ***vertically***, whereas ***merge and join*** combines dataframes ***horizontally***. \n"
   ]
  },
  {
   "cell_type": "code",
   "execution_count": 58,
   "id": "a117b81f-a8f1-40ca-bb6d-1e1a4c94992a",
   "metadata": {},
   "outputs": [
    {
     "data": {
      "text/html": [
       "<div>\n",
       "<style scoped>\n",
       "    .dataframe tbody tr th:only-of-type {\n",
       "        vertical-align: middle;\n",
       "    }\n",
       "\n",
       "    .dataframe tbody tr th {\n",
       "        vertical-align: top;\n",
       "    }\n",
       "\n",
       "    .dataframe thead th {\n",
       "        text-align: right;\n",
       "    }\n",
       "</style>\n",
       "<table border=\"1\" class=\"dataframe\">\n",
       "  <thead>\n",
       "    <tr style=\"text-align: right;\">\n",
       "      <th></th>\n",
       "      <th>Continent</th>\n",
       "      <th>country</th>\n",
       "      <th>beer_servings</th>\n",
       "      <th>spirit_servings</th>\n",
       "      <th>wine_servings</th>\n",
       "      <th>total_litres_of_pure_alcohol</th>\n",
       "    </tr>\n",
       "  </thead>\n",
       "  <tbody>\n",
       "    <tr>\n",
       "      <th>1</th>\n",
       "      <td>Europe</td>\n",
       "      <td>Albania</td>\n",
       "      <td>89</td>\n",
       "      <td>132</td>\n",
       "      <td>54</td>\n",
       "      <td>4.9</td>\n",
       "    </tr>\n",
       "    <tr>\n",
       "      <th>3</th>\n",
       "      <td>Europe</td>\n",
       "      <td>Andorra</td>\n",
       "      <td>245</td>\n",
       "      <td>138</td>\n",
       "      <td>312</td>\n",
       "      <td>12.4</td>\n",
       "    </tr>\n",
       "    <tr>\n",
       "      <th>5</th>\n",
       "      <td>Europe</td>\n",
       "      <td>Azerbaijan</td>\n",
       "      <td>21</td>\n",
       "      <td>46</td>\n",
       "      <td>5</td>\n",
       "      <td>1.3</td>\n",
       "    </tr>\n",
       "    <tr>\n",
       "      <th>9</th>\n",
       "      <td>Europe</td>\n",
       "      <td>Austria</td>\n",
       "      <td>279</td>\n",
       "      <td>75</td>\n",
       "      <td>191</td>\n",
       "      <td>9.7</td>\n",
       "    </tr>\n",
       "    <tr>\n",
       "      <th>13</th>\n",
       "      <td>Europe</td>\n",
       "      <td>Armenia</td>\n",
       "      <td>21</td>\n",
       "      <td>179</td>\n",
       "      <td>11</td>\n",
       "      <td>3.8</td>\n",
       "    </tr>\n",
       "  </tbody>\n",
       "</table>\n",
       "</div>"
      ],
      "text/plain": [
       "   Continent     country  beer_servings  spirit_servings  wine_servings  \\\n",
       "1     Europe     Albania             89              132             54   \n",
       "3     Europe     Andorra            245              138            312   \n",
       "5     Europe  Azerbaijan             21               46              5   \n",
       "9     Europe     Austria            279               75            191   \n",
       "13    Europe     Armenia             21              179             11   \n",
       "\n",
       "    total_litres_of_pure_alcohol  \n",
       "1                            4.9  \n",
       "3                           12.4  \n",
       "5                            1.3  \n",
       "9                            9.7  \n",
       "13                           3.8  "
      ]
     },
     "execution_count": 58,
     "metadata": {},
     "output_type": "execute_result"
    }
   ],
   "source": [
    "europedata=newalcoholdata[newalcoholdata['Continent']=='Europe']\n",
    "europedata.head()"
   ]
  },
  {
   "cell_type": "code",
   "execution_count": 54,
   "id": "53040a9d-6734-4495-b60b-0405917c6e50",
   "metadata": {},
   "outputs": [
    {
     "data": {
      "text/html": [
       "<div>\n",
       "<style scoped>\n",
       "    .dataframe tbody tr th:only-of-type {\n",
       "        vertical-align: middle;\n",
       "    }\n",
       "\n",
       "    .dataframe tbody tr th {\n",
       "        vertical-align: top;\n",
       "    }\n",
       "\n",
       "    .dataframe thead th {\n",
       "        text-align: right;\n",
       "    }\n",
       "</style>\n",
       "<table border=\"1\" class=\"dataframe\">\n",
       "  <thead>\n",
       "    <tr style=\"text-align: right;\">\n",
       "      <th></th>\n",
       "      <th>Continent</th>\n",
       "      <th>country</th>\n",
       "      <th>beer_servings</th>\n",
       "      <th>spirit_servings</th>\n",
       "      <th>wine_servings</th>\n",
       "      <th>total_litres_of_pure_alcohol</th>\n",
       "    </tr>\n",
       "  </thead>\n",
       "  <tbody>\n",
       "    <tr>\n",
       "      <th>56</th>\n",
       "      <td>Europe</td>\n",
       "      <td>Germany</td>\n",
       "      <td>346</td>\n",
       "      <td>117</td>\n",
       "      <td>175</td>\n",
       "      <td>11.3</td>\n",
       "    </tr>\n",
       "  </tbody>\n",
       "</table>\n",
       "</div>"
      ],
      "text/plain": [
       "   Continent  country  beer_servings  spirit_servings  wine_servings  \\\n",
       "56    Europe  Germany            346              117            175   \n",
       "\n",
       "    total_litres_of_pure_alcohol  \n",
       "56                          11.3  "
      ]
     },
     "execution_count": 54,
     "metadata": {},
     "output_type": "execute_result"
    }
   ],
   "source": [
    "europedata[europedata['beer_servings']==europedata['beer_servings'].max()]"
   ]
  },
  {
   "cell_type": "code",
   "execution_count": 55,
   "id": "cbde9276-dd1c-4dcf-a22c-9c42259a5b42",
   "metadata": {},
   "outputs": [
    {
     "data": {
      "text/plain": [
       "346"
      ]
     },
     "execution_count": 55,
     "metadata": {},
     "output_type": "execute_result"
    }
   ],
   "source": [
    "europedata['beer_servings'].max()"
   ]
  },
  {
   "cell_type": "code",
   "execution_count": 61,
   "id": "1c6db0d3-b972-4dc3-bea8-798f33dfaee7",
   "metadata": {},
   "outputs": [
    {
     "data": {
      "text/plain": [
       "1     False\n",
       "3     False\n",
       "5     False\n",
       "9     False\n",
       "13    False\n",
       "Name: beer_servings, dtype: bool"
      ]
     },
     "execution_count": 61,
     "metadata": {},
     "output_type": "execute_result"
    }
   ],
   "source": [
    "(europedata['beer_servings']==europedata['beer_servings'].max()).head()"
   ]
  },
  {
   "cell_type": "code",
   "execution_count": 74,
   "id": "4978bfea-51b6-4558-bca7-f7c191aa637e",
   "metadata": {},
   "outputs": [
    {
     "data": {
      "text/html": [
       "<div>\n",
       "<style scoped>\n",
       "    .dataframe tbody tr th:only-of-type {\n",
       "        vertical-align: middle;\n",
       "    }\n",
       "\n",
       "    .dataframe tbody tr th {\n",
       "        vertical-align: top;\n",
       "    }\n",
       "\n",
       "    .dataframe thead th {\n",
       "        text-align: right;\n",
       "    }\n",
       "</style>\n",
       "<table border=\"1\" class=\"dataframe\">\n",
       "  <thead>\n",
       "    <tr style=\"text-align: right;\">\n",
       "      <th></th>\n",
       "      <th>Continent</th>\n",
       "      <th>country</th>\n",
       "      <th>beer_servings</th>\n",
       "      <th>spirit_servings</th>\n",
       "      <th>wine_servings</th>\n",
       "      <th>total_litres_of_pure_alcohol</th>\n",
       "    </tr>\n",
       "  </thead>\n",
       "  <tbody>\n",
       "    <tr>\n",
       "      <th>56</th>\n",
       "      <td>Europe</td>\n",
       "      <td>Germany</td>\n",
       "      <td>346</td>\n",
       "      <td>117</td>\n",
       "      <td>175</td>\n",
       "      <td>11.3</td>\n",
       "    </tr>\n",
       "  </tbody>\n",
       "</table>\n",
       "</div>"
      ],
      "text/plain": [
       "   Continent  country  beer_servings  spirit_servings  wine_servings  \\\n",
       "56    Europe  Germany            346              117            175   \n",
       "\n",
       "    total_litres_of_pure_alcohol  \n",
       "56                          11.3  "
      ]
     },
     "execution_count": 74,
     "metadata": {},
     "output_type": "execute_result"
    }
   ],
   "source": [
    "europebeer=europedata[europedata['beer_servings']==europedata['beer_servings'].max()]\n",
    "europebeer"
   ]
  },
  {
   "cell_type": "code",
   "execution_count": 77,
   "id": "6da0acff-4adc-4d1b-934c-49ce8472ee99",
   "metadata": {},
   "outputs": [
    {
     "data": {
      "text/html": [
       "<div>\n",
       "<style scoped>\n",
       "    .dataframe tbody tr th:only-of-type {\n",
       "        vertical-align: middle;\n",
       "    }\n",
       "\n",
       "    .dataframe tbody tr th {\n",
       "        vertical-align: top;\n",
       "    }\n",
       "\n",
       "    .dataframe thead th {\n",
       "        text-align: right;\n",
       "    }\n",
       "</style>\n",
       "<table border=\"1\" class=\"dataframe\">\n",
       "  <thead>\n",
       "    <tr style=\"text-align: right;\">\n",
       "      <th></th>\n",
       "      <th>Continent</th>\n",
       "      <th>country</th>\n",
       "      <th>beer_servings</th>\n",
       "      <th>spirit_servings</th>\n",
       "      <th>wine_servings</th>\n",
       "      <th>total_litres_of_pure_alcohol</th>\n",
       "    </tr>\n",
       "  </thead>\n",
       "  <tbody>\n",
       "    <tr>\n",
       "      <th>50</th>\n",
       "      <td>Europe</td>\n",
       "      <td>France</td>\n",
       "      <td>127</td>\n",
       "      <td>151</td>\n",
       "      <td>370</td>\n",
       "      <td>11.8</td>\n",
       "    </tr>\n",
       "  </tbody>\n",
       "</table>\n",
       "</div>"
      ],
      "text/plain": [
       "   Continent country  beer_servings  spirit_servings  wine_servings  \\\n",
       "50    Europe  France            127              151            370   \n",
       "\n",
       "    total_litres_of_pure_alcohol  \n",
       "50                          11.8  "
      ]
     },
     "execution_count": 77,
     "metadata": {},
     "output_type": "execute_result"
    }
   ],
   "source": [
    "europewine=europedata[europedata['wine_servings']==europedata['wine_servings'].max()]\n",
    "europewine"
   ]
  },
  {
   "cell_type": "code",
   "execution_count": 76,
   "id": "06e5951d-9a28-4abe-a518-309271d3f66d",
   "metadata": {},
   "outputs": [
    {
     "data": {
      "text/html": [
       "<div>\n",
       "<style scoped>\n",
       "    .dataframe tbody tr th:only-of-type {\n",
       "        vertical-align: middle;\n",
       "    }\n",
       "\n",
       "    .dataframe tbody tr th {\n",
       "        vertical-align: top;\n",
       "    }\n",
       "\n",
       "    .dataframe thead th {\n",
       "        text-align: right;\n",
       "    }\n",
       "</style>\n",
       "<table border=\"1\" class=\"dataframe\">\n",
       "  <thead>\n",
       "    <tr style=\"text-align: right;\">\n",
       "      <th></th>\n",
       "      <th>Continent</th>\n",
       "      <th>country</th>\n",
       "      <th>beer_servings</th>\n",
       "      <th>spirit_servings</th>\n",
       "      <th>wine_servings</th>\n",
       "      <th>total_litres_of_pure_alcohol</th>\n",
       "    </tr>\n",
       "  </thead>\n",
       "  <tbody>\n",
       "    <tr>\n",
       "      <th>26</th>\n",
       "      <td>Europe</td>\n",
       "      <td>Belarus</td>\n",
       "      <td>142</td>\n",
       "      <td>373</td>\n",
       "      <td>42</td>\n",
       "      <td>14.4</td>\n",
       "    </tr>\n",
       "  </tbody>\n",
       "</table>\n",
       "</div>"
      ],
      "text/plain": [
       "   Continent  country  beer_servings  spirit_servings  wine_servings  \\\n",
       "26    Europe  Belarus            142              373             42   \n",
       "\n",
       "    total_litres_of_pure_alcohol  \n",
       "26                          14.4  "
      ]
     },
     "execution_count": 76,
     "metadata": {},
     "output_type": "execute_result"
    }
   ],
   "source": [
    "europespirit=europedata[europedata['spirit_servings']==europedata['spirit_servings'].max()]\n",
    "europespirit"
   ]
  },
  {
   "cell_type": "code",
   "execution_count": 71,
   "id": "7a325b9c-f006-4350-9abc-4e0f63c9fa72",
   "metadata": {},
   "outputs": [
    {
     "data": {
      "text/html": [
       "<div>\n",
       "<style scoped>\n",
       "    .dataframe tbody tr th:only-of-type {\n",
       "        vertical-align: middle;\n",
       "    }\n",
       "\n",
       "    .dataframe tbody tr th {\n",
       "        vertical-align: top;\n",
       "    }\n",
       "\n",
       "    .dataframe thead th {\n",
       "        text-align: right;\n",
       "    }\n",
       "</style>\n",
       "<table border=\"1\" class=\"dataframe\">\n",
       "  <thead>\n",
       "    <tr style=\"text-align: right;\">\n",
       "      <th></th>\n",
       "      <th>Continent</th>\n",
       "      <th>country_x</th>\n",
       "      <th>beer_servings_x</th>\n",
       "      <th>spirit_servings_x</th>\n",
       "      <th>wine_servings_x</th>\n",
       "      <th>total_litres_of_pure_alcohol_x</th>\n",
       "      <th>country_y</th>\n",
       "      <th>beer_servings_y</th>\n",
       "      <th>spirit_servings_y</th>\n",
       "      <th>wine_servings_y</th>\n",
       "      <th>total_litres_of_pure_alcohol_y</th>\n",
       "      <th>country</th>\n",
       "      <th>beer_servings</th>\n",
       "      <th>spirit_servings</th>\n",
       "      <th>wine_servings</th>\n",
       "      <th>total_litres_of_pure_alcohol</th>\n",
       "    </tr>\n",
       "  </thead>\n",
       "  <tbody>\n",
       "    <tr>\n",
       "      <th>0</th>\n",
       "      <td>Europe</td>\n",
       "      <td>Germany</td>\n",
       "      <td>346</td>\n",
       "      <td>117</td>\n",
       "      <td>175</td>\n",
       "      <td>11.3</td>\n",
       "      <td>France</td>\n",
       "      <td>127</td>\n",
       "      <td>151</td>\n",
       "      <td>370</td>\n",
       "      <td>11.8</td>\n",
       "      <td>Belarus</td>\n",
       "      <td>142</td>\n",
       "      <td>373</td>\n",
       "      <td>42</td>\n",
       "      <td>14.4</td>\n",
       "    </tr>\n",
       "  </tbody>\n",
       "</table>\n",
       "</div>"
      ],
      "text/plain": [
       "  Continent country_x  beer_servings_x  spirit_servings_x  wine_servings_x  \\\n",
       "0    Europe   Germany              346                117              175   \n",
       "\n",
       "   total_litres_of_pure_alcohol_x country_y  beer_servings_y  \\\n",
       "0                            11.3    France              127   \n",
       "\n",
       "   spirit_servings_y  wine_servings_y  total_litres_of_pure_alcohol_y  \\\n",
       "0                151              370                            11.8   \n",
       "\n",
       "   country  beer_servings  spirit_servings  wine_servings  \\\n",
       "0  Belarus            142              373             42   \n",
       "\n",
       "   total_litres_of_pure_alcohol  \n",
       "0                          14.4  "
      ]
     },
     "execution_count": 71,
     "metadata": {},
     "output_type": "execute_result"
    }
   ],
   "source": [
    "europebeer.merge(europewine,on='Continent').merge(europespirit,on='Continent')"
   ]
  },
  {
   "cell_type": "code",
   "execution_count": 79,
   "id": "b434574b-b1cf-44f3-855b-62e262a4526d",
   "metadata": {},
   "outputs": [
    {
     "data": {
      "text/html": [
       "<div>\n",
       "<style scoped>\n",
       "    .dataframe tbody tr th:only-of-type {\n",
       "        vertical-align: middle;\n",
       "    }\n",
       "\n",
       "    .dataframe tbody tr th {\n",
       "        vertical-align: top;\n",
       "    }\n",
       "\n",
       "    .dataframe thead th {\n",
       "        text-align: right;\n",
       "    }\n",
       "</style>\n",
       "<table border=\"1\" class=\"dataframe\">\n",
       "  <thead>\n",
       "    <tr style=\"text-align: right;\">\n",
       "      <th></th>\n",
       "      <th>index</th>\n",
       "      <th>Continent</th>\n",
       "      <th>country</th>\n",
       "      <th>beer_servings</th>\n",
       "      <th>spirit_servings</th>\n",
       "      <th>wine_servings</th>\n",
       "      <th>total_litres_of_pure_alcohol</th>\n",
       "    </tr>\n",
       "  </thead>\n",
       "  <tbody>\n",
       "    <tr>\n",
       "      <th>0</th>\n",
       "      <td>56</td>\n",
       "      <td>Europe</td>\n",
       "      <td>Germany</td>\n",
       "      <td>346</td>\n",
       "      <td>117</td>\n",
       "      <td>175</td>\n",
       "      <td>11.3</td>\n",
       "    </tr>\n",
       "    <tr>\n",
       "      <th>1</th>\n",
       "      <td>50</td>\n",
       "      <td>Europe</td>\n",
       "      <td>France</td>\n",
       "      <td>127</td>\n",
       "      <td>151</td>\n",
       "      <td>370</td>\n",
       "      <td>11.8</td>\n",
       "    </tr>\n",
       "    <tr>\n",
       "      <th>2</th>\n",
       "      <td>26</td>\n",
       "      <td>Europe</td>\n",
       "      <td>Belarus</td>\n",
       "      <td>142</td>\n",
       "      <td>373</td>\n",
       "      <td>42</td>\n",
       "      <td>14.4</td>\n",
       "    </tr>\n",
       "  </tbody>\n",
       "</table>\n",
       "</div>"
      ],
      "text/plain": [
       "   index Continent  country  beer_servings  spirit_servings  wine_servings  \\\n",
       "0     56    Europe  Germany            346              117            175   \n",
       "1     50    Europe   France            127              151            370   \n",
       "2     26    Europe  Belarus            142              373             42   \n",
       "\n",
       "   total_litres_of_pure_alcohol  \n",
       "0                          11.3  \n",
       "1                          11.8  \n",
       "2                          14.4  "
      ]
     },
     "execution_count": 79,
     "metadata": {},
     "output_type": "execute_result"
    }
   ],
   "source": [
    "europemaxes=pd.concat([europebeer,europewine,europespirit])\n",
    "europemaxes.reset_index()"
   ]
  },
  {
   "cell_type": "markdown",
   "id": "6f30cb5b-eab9-4d62-998f-ad352c639e1b",
   "metadata": {},
   "source": [
    "On the flip side, I want to see which countries do not consume any alcohol. \n",
    "- ```(df['col1']=='x')&(df['col2']=='x')```: This shows us a boolean value. If we put wrap this function with a **df[]** on the outside, it will return a dataframe.\n",
    "\n",
    "If you want to filter one columnn for multiple criterias, this is a good [resource](https://www.ritchieng.com/pandas-multi-criteria-filtering/)."
   ]
  },
  {
   "cell_type": "code",
   "execution_count": 96,
   "id": "f2d723c5-a38f-4586-91da-e80c2fd07ade",
   "metadata": {},
   "outputs": [
    {
     "data": {
      "text/plain": [
       "0       True\n",
       "1      False\n",
       "2      False\n",
       "3      False\n",
       "4      False\n",
       "       ...  \n",
       "159    False\n",
       "160    False\n",
       "161    False\n",
       "162    False\n",
       "163    False\n",
       "Length: 156, dtype: bool"
      ]
     },
     "execution_count": 96,
     "metadata": {},
     "output_type": "execute_result"
    }
   ],
   "source": [
    "(newalcoholdata['wine_servings']==0)&(newalcoholdata['beer_servings']==0)"
   ]
  },
  {
   "cell_type": "code",
   "execution_count": 97,
   "id": "25fd0175-b7fa-4772-8d2b-ff61e7c76308",
   "metadata": {},
   "outputs": [
    {
     "data": {
      "text/html": [
       "<div>\n",
       "<style scoped>\n",
       "    .dataframe tbody tr th:only-of-type {\n",
       "        vertical-align: middle;\n",
       "    }\n",
       "\n",
       "    .dataframe tbody tr th {\n",
       "        vertical-align: top;\n",
       "    }\n",
       "\n",
       "    .dataframe thead th {\n",
       "        text-align: right;\n",
       "    }\n",
       "</style>\n",
       "<table border=\"1\" class=\"dataframe\">\n",
       "  <thead>\n",
       "    <tr style=\"text-align: right;\">\n",
       "      <th></th>\n",
       "      <th>Continent</th>\n",
       "      <th>country</th>\n",
       "      <th>beer_servings</th>\n",
       "      <th>spirit_servings</th>\n",
       "      <th>wine_servings</th>\n",
       "      <th>total_litres_of_pure_alcohol</th>\n",
       "    </tr>\n",
       "  </thead>\n",
       "  <tbody>\n",
       "    <tr>\n",
       "      <th>0</th>\n",
       "      <td>Asia</td>\n",
       "      <td>Afghanistan</td>\n",
       "      <td>0</td>\n",
       "      <td>0</td>\n",
       "      <td>0</td>\n",
       "      <td>0.0</td>\n",
       "    </tr>\n",
       "    <tr>\n",
       "      <th>12</th>\n",
       "      <td>Asia</td>\n",
       "      <td>Bangladesh</td>\n",
       "      <td>0</td>\n",
       "      <td>0</td>\n",
       "      <td>0</td>\n",
       "      <td>0.0</td>\n",
       "    </tr>\n",
       "    <tr>\n",
       "      <th>70</th>\n",
       "      <td>Asia</td>\n",
       "      <td>Iran</td>\n",
       "      <td>0</td>\n",
       "      <td>0</td>\n",
       "      <td>0</td>\n",
       "      <td>0.0</td>\n",
       "    </tr>\n",
       "    <tr>\n",
       "      <th>81</th>\n",
       "      <td>Asia</td>\n",
       "      <td>Kuwait</td>\n",
       "      <td>0</td>\n",
       "      <td>0</td>\n",
       "      <td>0</td>\n",
       "      <td>0.0</td>\n",
       "    </tr>\n",
       "    <tr>\n",
       "      <th>91</th>\n",
       "      <td>Asia</td>\n",
       "      <td>Maldives</td>\n",
       "      <td>0</td>\n",
       "      <td>0</td>\n",
       "      <td>0</td>\n",
       "      <td>0.0</td>\n",
       "    </tr>\n",
       "    <tr>\n",
       "      <th>94</th>\n",
       "      <td>Africa</td>\n",
       "      <td>Mauritania</td>\n",
       "      <td>0</td>\n",
       "      <td>0</td>\n",
       "      <td>0</td>\n",
       "      <td>0.0</td>\n",
       "    </tr>\n",
       "    <tr>\n",
       "      <th>97</th>\n",
       "      <td>Europe</td>\n",
       "      <td>Monaco</td>\n",
       "      <td>0</td>\n",
       "      <td>0</td>\n",
       "      <td>0</td>\n",
       "      <td>0.0</td>\n",
       "    </tr>\n",
       "    <tr>\n",
       "      <th>117</th>\n",
       "      <td>Asia</td>\n",
       "      <td>Pakistan</td>\n",
       "      <td>0</td>\n",
       "      <td>0</td>\n",
       "      <td>0</td>\n",
       "      <td>0.0</td>\n",
       "    </tr>\n",
       "    <tr>\n",
       "      <th>136</th>\n",
       "      <td>Africa</td>\n",
       "      <td>Somalia</td>\n",
       "      <td>0</td>\n",
       "      <td>0</td>\n",
       "      <td>0</td>\n",
       "      <td>0.0</td>\n",
       "    </tr>\n",
       "  </tbody>\n",
       "</table>\n",
       "</div>"
      ],
      "text/plain": [
       "    Continent      country  beer_servings  spirit_servings  wine_servings  \\\n",
       "0        Asia  Afghanistan              0                0              0   \n",
       "12       Asia   Bangladesh              0                0              0   \n",
       "70       Asia         Iran              0                0              0   \n",
       "81       Asia       Kuwait              0                0              0   \n",
       "91       Asia     Maldives              0                0              0   \n",
       "94     Africa   Mauritania              0                0              0   \n",
       "97     Europe       Monaco              0                0              0   \n",
       "117      Asia     Pakistan              0                0              0   \n",
       "136    Africa      Somalia              0                0              0   \n",
       "\n",
       "     total_litres_of_pure_alcohol  \n",
       "0                             0.0  \n",
       "12                            0.0  \n",
       "70                            0.0  \n",
       "81                            0.0  \n",
       "91                            0.0  \n",
       "94                            0.0  \n",
       "97                            0.0  \n",
       "117                           0.0  \n",
       "136                           0.0  "
      ]
     },
     "execution_count": 97,
     "metadata": {},
     "output_type": "execute_result"
    }
   ],
   "source": [
    "#filtering multiple columns by same criteria\n",
    "noalcohol=newalcoholdata[((newalcoholdata['wine_servings']==0)&(newalcoholdata['beer_servings']==0)&(newalcoholdata['spirit_servings']==0))]\n",
    "noalcohol"
   ]
  },
  {
   "cell_type": "code",
   "execution_count": 98,
   "id": "ebab554f-b270-4b96-bf44-40382a0ed03e",
   "metadata": {},
   "outputs": [
    {
     "data": {
      "text/plain": [
       "Continent                       9\n",
       "country                         9\n",
       "beer_servings                   9\n",
       "spirit_servings                 9\n",
       "wine_servings                   9\n",
       "total_litres_of_pure_alcohol    9\n",
       "dtype: int64"
      ]
     },
     "execution_count": 98,
     "metadata": {},
     "output_type": "execute_result"
    }
   ],
   "source": [
    "noalcohol.count()"
   ]
  },
  {
   "cell_type": "markdown",
   "id": "0464a1c0-7762-4d6b-b4be-63aa8d18d3c7",
   "metadata": {},
   "source": [
    "### Conclusion: \n",
    "Europe has the largest consumption of alcohol across the world. Germany, France and Belarus takes the crown for beers, wine, and spirits respectively. \n",
    "\n",
    "As for countries that do not consume alcohol, there are 9 countries in our list which of which most of them are in Asia. Based on this [article](https://worldpopulationreview.com/country-rankings/countries-where-alcohol-is-illegal) I found, I believe it is because these countires have a sizable muslim population, therefore consumption of alchol is prohibited. "
   ]
  }
 ],
 "metadata": {
  "kernelspec": {
   "display_name": "ANA522 (default)",
   "language": "python",
   "name": "ada522"
  },
  "language_info": {
   "codemirror_mode": {
    "name": "ipython",
    "version": 3
   },
   "file_extension": ".py",
   "mimetype": "text/x-python",
   "name": "python",
   "nbconvert_exporter": "python",
   "pygments_lexer": "ipython3",
   "version": "3.8.5"
  }
 },
 "nbformat": 4,
 "nbformat_minor": 5
}
